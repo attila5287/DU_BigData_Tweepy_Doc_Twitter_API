{
 "cells": [
  {
   "cell_type": "code",
   "execution_count": 1,
   "metadata": {},
   "outputs": [],
   "source": [
    "# Dependencies\n",
    "import tweepy\n",
    "import time\n",
    "import json\n",
    "from config import (consumer_key, \n",
    "                    consumer_secret, \n",
    "                    access_token, \n",
    "                    access_token_secret)"
   ]
  },
  {
   "cell_type": "code",
   "execution_count": 2,
   "metadata": {},
   "outputs": [],
   "source": [
    "# Target Term\n",
    "target_term = \"@SouthwestAir\""
   ]
  },
  {
   "cell_type": "code",
   "execution_count": 3,
   "metadata": {},
   "outputs": [],
   "source": [
    "# Twitter Credentials\n",
    "auth = tweepy.OAuthHandler(consumer_key, consumer_secret)\n",
    "auth.set_access_token(access_token, access_token_secret)\n",
    "api = tweepy.API(auth, parser=tweepy.parsers.JSONParser())"
   ]
  },
  {
   "cell_type": "code",
   "execution_count": 4,
   "metadata": {},
   "outputs": [],
   "source": [
    "# Search for tweets\n",
    "public_tweets = api.search(target_term, count=5, result_type=\"recent\")"
   ]
  },
  {
   "cell_type": "code",
   "execution_count": 5,
   "metadata": {},
   "outputs": [
    {
     "name": "stdout",
     "output_type": "stream",
     "text": [
      "@Southwestair i need to cancel 1 member of my trip but there is no option on the website, help please!\n",
      "jpierce324\n",
      "RT @JeffTheWanderer: Oh summer travel, how fun you are. Checked in as fast as the site would load and got B21-24 for our @SouthwestAir flig…\n",
      "bjkbrady\n",
      "@SouthwestAir I was a mentor to a girl I worked with at the San Diego jail. She has since became an attorney in NY.… https://t.co/T7VySygPTk\n",
      "tommyred\n",
      "You ruined our long weekend cancelling our flight tonight. Missing a whole day now. Why did you cancel it? @SouthwestAir #denver to #Austin\n",
      "hoTTTboXX\n",
      "@SouthwestAir I would take my girlfriend to the Statue Of Liberty, the art museums and Jackson Heights, Queens wher… https://t.co/3gavphdgcb\n",
      "IMissMyPencils\n"
     ]
    }
   ],
   "source": [
    "# Loop through all public_tweets\n",
    "for tweet in public_tweets[\"statuses\"]:\n",
    "\n",
    "    # Get ID and Author of most recent tweet directed at target\n",
    "    tweet_id = tweet[\"id\"]\n",
    "    tweet_author = tweet[\"user\"][\"screen_name\"]\n",
    "    tweet_text = tweet[\"text\"]\n",
    "\n",
    "    # Print Tweet Text and Tweet Author\n",
    "    print(tweet_text)\n",
    "    print(tweet_author)\n"
   ]
  },
  {
   "cell_type": "code",
   "execution_count": null,
   "metadata": {},
   "outputs": [],
   "source": []
  }
 ],
 "metadata": {
  "kernelspec": {
   "display_name": "Python [conda env:PythonData]",
   "language": "python",
   "name": "conda-env-PythonData-py"
  },
  "language_info": {
   "codemirror_mode": {
    "name": "ipython",
    "version": 3
   },
   "file_extension": ".py",
   "mimetype": "text/x-python",
   "name": "python",
   "nbconvert_exporter": "python",
   "pygments_lexer": "ipython3",
   "version": "3.6.5"
  }
 },
 "nbformat": 4,
 "nbformat_minor": 2
}
