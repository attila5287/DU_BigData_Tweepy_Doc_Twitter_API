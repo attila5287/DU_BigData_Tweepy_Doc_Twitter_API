{
 "cells": [
  {
   "cell_type": "code",
   "execution_count": 5,
   "metadata": {},
   "outputs": [],
   "source": [
    "# Dependencies\n",
    "import json\n",
    "import tweepy\n",
    "from config import consumer_key\n",
    "from config import consumer_secret\n",
    "from config import access_token\n",
    "from config import access_token_secret\n"
   ]
  },
  {
   "cell_type": "code",
   "execution_count": 6,
   "metadata": {},
   "outputs": [
    {
     "name": "stdout",
     "output_type": "stream",
     "text": [
      "Amazon's “Forever” is a show about learning to be honest, even if it means a little conflict. Or, really, about hea… https://t.co/QB6v8hvfxM\n",
      "Northbound 2 and 3 trains are running with delays while crews perform switch replacement work at 135 St.\n",
      "Where to eat and drink in Cobble Hill https://t.co/BomxcVnPCb\n",
      "\"Will we ever really know what was going on before and after they were in that recording studio?\" https://t.co/tN1zK1FSrk\n",
      "The long decline of DKE, Brett Kavanaugh’s fraternity at Yale: https://t.co/IUm8m2C9Ji https://t.co/ZU5xBuI2Gw\n",
      "Northbound D, N and R trains are running express from 36 St (Brooklyn) to Atlantic Av-Barclays Center while crews p… https://t.co/2S482LFsah\n",
      "A-train service has resumed. https://t.co/38AHVQynOp\n",
      "\"I’m going to be sore tomorrow, but I’ll be damned if I don’t feel like a million bucks, lightheaded in the best wa… https://t.co/IAV4v8rzAm\n",
      "A-train service has resumed. https://t.co/t6o2aNKUzX\n",
      "Update: Correction: Northbound A trains are running with delays because a train's brakes were automatically activat… https://t.co/A9wzUCZM6U\n",
      "By officially dropping the “Donuts,” Dunkin’ has put an end to one long-running mystery and replaced it with anothe… https://t.co/LhsQtCLy3W\n",
      "Northbound A trains are running with delays because a train's brakes were automatically activated at Franklin Av.\n",
      "Northbound A trains are running with delays because a person is in need of medical assistance at Beach 60 St.\n",
      "What midwestern bagel factory did this bagel come out of? https://t.co/TQHjheKAF6\n",
      "Why did Anna Lyndsey spend a decade living in the dark? https://t.co/7vvtpitmjG https://t.co/GrUzpUJWww\n",
      "Why Momofuku’s billionaire investor is aggressively funding NYC’s top restaurants https://t.co/1t0GZXwC6h\n",
      "6 train service has resumed. https://t.co/EWaejdhhDH\n",
      "A and E train service has resumed. https://t.co/QPHKo8xMS2\n",
      "In ancient days\n",
      "Men in my job prepared for endless travel\n",
      "Across the sea of stars, where Pharaoh sailed\n",
      "To immortal… https://t.co/6FB9kYe1sp\n",
      "Take a look inside the (gorgeously decorated) turrets of New York City https://t.co/spUFnVAmpY\n"
     ]
    }
   ],
   "source": [
    "auth = tweepy.OAuthHandler(consumer_key, consumer_secret)\n",
    "auth.set_access_token(access_token, access_token_secret)\n",
    "\n",
    "api = tweepy.API(auth)\n",
    "\n",
    "public_tweets = api.home_timeline()\n",
    "for tweet in public_tweets:                                                                                                                                                                                                                                                                                                                                                                                                                                                                             \n",
    "    print (tweet.text)"
   ]
  },
  {
   "cell_type": "code",
   "execution_count": 9,
   "metadata": {},
   "outputs": [],
   "source": [
    "# Import Twitter API Keys\n",
    "from config import consumer_key, consumer_secret, access_token, access_token_secret"
   ]
  },
  {
   "cell_type": "code",
   "execution_count": 11,
   "metadata": {},
   "outputs": [],
   "source": [
    "# Setup Tweepy API Authentication\n",
    "auth = tweepy.OAuthHandler(consumer_key, consumer_secret)\n",
    "auth.set_access_token(access_token, access_token_secret)\n",
    "api = tweepy.API(auth, parser=tweepy.parsers.JSONParser())"
   ]
  },
  {
   "cell_type": "code",
   "execution_count": 12,
   "metadata": {},
   "outputs": [],
   "source": [
    "# Get all tweets from home feed\n",
    "public_tweets = api.home_timeline()"
   ]
  },
  {
   "cell_type": "code",
   "execution_count": null,
   "metadata": {},
   "outputs": [],
   "source": [
    "# Loop through all tweets\n",
    "for tweet in public_tweets:\n",
    "    # Utilize JSON dumps to generate a pretty-printed json\n",
    "    print(json.dumps(tweet, sort_keys=True, indent=4))"
   ]
  },
  {
   "cell_type": "code",
   "execution_count": null,
   "metadata": {},
   "outputs": [],
   "source": []
  },
  {
   "cell_type": "code",
   "execution_count": null,
   "metadata": {},
   "outputs": [],
   "source": []
  }
 ],
 "metadata": {
  "kernelspec": {
   "display_name": "Python 3",
   "language": "python",
   "name": "python3"
  },
  "language_info": {
   "codemirror_mode": {
    "name": "ipython",
    "version": 3
   },
   "file_extension": ".py",
   "mimetype": "text/x-python",
   "name": "python",
   "nbconvert_exporter": "python",
   "pygments_lexer": "ipython3",
   "version": "3.6.5"
  },
  "varInspector": {
   "cols": {
    "lenName": 16,
    "lenType": 16,
    "lenVar": 40
   },
   "kernels_config": {
    "python": {
     "delete_cmd_postfix": "",
     "delete_cmd_prefix": "del ",
     "library": "var_list.py",
     "varRefreshCmd": "print(var_dic_list())"
    },
    "r": {
     "delete_cmd_postfix": ") ",
     "delete_cmd_prefix": "rm(",
     "library": "var_list.r",
     "varRefreshCmd": "cat(var_dic_list()) "
    }
   },
   "types_to_exclude": [
    "module",
    "function",
    "builtin_function_or_method",
    "instance",
    "_Feature"
   ],
   "window_display": false
  }
 },
 "nbformat": 4,
 "nbformat_minor": 2
}
